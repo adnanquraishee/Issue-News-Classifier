{
  "nbformat": 4,
  "nbformat_minor": 0,
  "metadata": {
    "colab": {
      "provenance": []
    },
    "kernelspec": {
      "name": "python3",
      "display_name": "Python 3"
    },
    "language_info": {
      "name": "python"
    }
  },
  "cells": [
    {
      "cell_type": "code",
      "source": [
        "pip install GoogleNews"
      ],
      "metadata": {
        "id": "uZA0aDveEeEe"
      },
      "execution_count": null,
      "outputs": []
    },
    {
      "cell_type": "code",
      "source": [
        "from GoogleNews import GoogleNews\n",
        "\n",
        "# Define the issue categories relevant to Indian politics\n",
        "issue_categories = {\n",
        "    'Elections': ['election', 'voting', 'polls'],\n",
        "    'Government Policies': ['policy', 'government', 'legislation'],\n",
        "    'Corruption': ['corruption', 'scam', 'graft']\n",
        "}\n",
        "\n",
        "# Function to classify an article into an issue category\n",
        "def classify_article(article_title):\n",
        "    for category, keywords in issue_categories.items():\n",
        "        for keyword in keywords:\n",
        "            if keyword in article_title.lower():\n",
        "                return category\n",
        "    return 'Other'  # If no matching category is found\n",
        "\n",
        "# Function to search and classify articles related to the user-input issue\n",
        "def search_and_classify(issue):\n",
        "    googlenews = GoogleNews()\n",
        "    googlenews.search(issue)\n",
        "    articles = googlenews.get_texts()\n",
        "\n",
        "    classified_articles = {}\n",
        "    for article_title in articles:\n",
        "        category = classify_article(article_title)\n",
        "        if category not in classified_articles:\n",
        "            classified_articles[category] = []\n",
        "        classified_articles[category].append(article_title)\n",
        "\n",
        "    return classified_articles\n",
        "\n",
        "# Get user input for the issue\n",
        "user_issue = input(\"Enter the political issue you're interested in: \")\n",
        "\n",
        "# Search and classify articles related to the user-input issue\n",
        "classified_articles = search_and_classify(user_issue)\n",
        "\n",
        "# Print the classified articles\n",
        "for category, articles in classified_articles.items():\n",
        "    print(f\"Issue Category: {category}\")\n",
        "    for article_title in articles:\n",
        "        print(article_title)\n",
        "    print()\n"
      ],
      "metadata": {
        "id": "JCkpHveWEzFv"
      },
      "execution_count": null,
      "outputs": []
    }
  ]
}